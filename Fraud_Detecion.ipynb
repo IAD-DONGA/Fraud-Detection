{
  "nbformat": 4,
  "nbformat_minor": 0,
  "metadata": {
    "colab": {
      "name": "Fraud Detecion.ipynb",
      "provenance": []
    },
    "kernelspec": {
      "name": "python3",
      "display_name": "Python 3"
    }
  },
  "cells": [
    {
      "cell_type": "code",
      "metadata": {
        "id": "_v0T0xmAudGj",
        "colab_type": "code",
        "colab": {}
      },
      "source": [
        "# Mount google drive to have access to your data\n",
        "from google.colab import drive\n",
        "drive.mount('/gdrive')"
      ],
      "execution_count": null,
      "outputs": []
    },
    {
      "cell_type": "code",
      "metadata": {
        "id": "Y2qoW75Yr0mD",
        "colab_type": "code",
        "colab": {}
      },
      "source": [
        "#Import essentials packages required \n",
        "import pandas as pd\n",
        "import numpy as np\n",
        "import matplotlib.pyplot as plt \n",
        "import seaborn as sns \n",
        "from sklearn.preprocessing import StandardScaler\n",
        "from sklearn.model_selection import train_test_split\n",
        "from sklearn.utils import resample\n",
        "from sklearn.linear_model import LogisticRegression\n",
        "from sklearn.metrics import (confusion_matrix, accuracy_score, \n",
        "                            classification_report, precision_score,f1_score,recall_score)"
      ],
      "execution_count": null,
      "outputs": []
    },
    {
      "cell_type": "code",
      "metadata": {
        "id": "toJdMEBksYwq",
        "colab_type": "code",
        "colab": {}
      },
      "source": [
        "# Import the dataset by specifying the path of the file\n",
        "df= pd.read_csv('/gdrive/My Drive/creditcard.csv')"
      ],
      "execution_count": null,
      "outputs": []
    },
    {
      "cell_type": "markdown",
      "metadata": {
        "id": "pC5KFmouPBO2",
        "colab_type": "text"
      },
      "source": [
        "### ***DATA EXPLORATION***\n",
        "\n",
        "\n",
        "\n"
      ]
    },
    {
      "cell_type": "code",
      "metadata": {
        "id": "VxaMZ-JIsgwB",
        "colab_type": "code",
        "colab": {
          "base_uri": "https://localhost:8080/",
          "height": 152
        },
        "outputId": "51713021-d904-4ec2-ec41-3e27dc291c5e"
      },
      "source": [
        "#display the first 5 rows of the dataset\n",
        "\n",
        "print(df.head(5))"
      ],
      "execution_count": null,
      "outputs": [
        {
          "output_type": "stream",
          "text": [
            "   Time        V1        V2        V3  ...       V27       V28  Amount  Class\n",
            "0   0.0 -1.359807 -0.072781  2.536347  ...  0.133558 -0.021053  149.62      0\n",
            "1   0.0  1.191857  0.266151  0.166480  ... -0.008983  0.014724    2.69      0\n",
            "2   1.0 -1.358354 -1.340163  1.773209  ... -0.055353 -0.059752  378.66      0\n",
            "3   1.0 -0.966272 -0.185226  1.792993  ...  0.062723  0.061458  123.50      0\n",
            "4   2.0 -1.158233  0.877737  1.548718  ...  0.219422  0.215153   69.99      0\n",
            "\n",
            "[5 rows x 31 columns]\n"
          ],
          "name": "stdout"
        }
      ]
    },
    {
      "cell_type": "code",
      "metadata": {
        "id": "L9mjH3-TOAHM",
        "colab_type": "code",
        "colab": {
          "base_uri": "https://localhost:8080/",
          "height": 34
        },
        "outputId": "db3a230c-5b5e-4eac-de38-5c34f5965364"
      },
      "source": [
        "# DataFrame structure architecture\n",
        "#dimensions: number of rows, number of columns\n",
        "df.shape"
      ],
      "execution_count": null,
      "outputs": [
        {
          "output_type": "execute_result",
          "data": {
            "text/plain": [
              "(284807, 31)"
            ]
          },
          "metadata": {
            "tags": []
          },
          "execution_count": 5
        }
      ]
    },
    {
      "cell_type": "code",
      "metadata": {
        "id": "r6YRWxlCs6IT",
        "colab_type": "code",
        "colab": {
          "base_uri": "https://localhost:8080/",
          "height": 101
        },
        "outputId": "cdf7ef3a-6434-48b8-a18d-56fcfbcc6d06"
      },
      "source": [
        "# enumeration of columns\n",
        "df.columns"
      ],
      "execution_count": null,
      "outputs": [
        {
          "output_type": "execute_result",
          "data": {
            "text/plain": [
              "Index(['Time', 'V1', 'V2', 'V3', 'V4', 'V5', 'V6', 'V7', 'V8', 'V9', 'V10',\n",
              "       'V11', 'V12', 'V13', 'V14', 'V15', 'V16', 'V17', 'V18', 'V19', 'V20',\n",
              "       'V21', 'V22', 'V23', 'V24', 'V25', 'V26', 'V27', 'V28', 'Amount',\n",
              "       'Class'],\n",
              "      dtype='object')"
            ]
          },
          "metadata": {
            "tags": []
          },
          "execution_count": 6
        }
      ]
    },
    {
      "cell_type": "code",
      "metadata": {
        "id": "6S4TwJPcEQlX",
        "colab_type": "code",
        "colab": {
          "base_uri": "https://localhost:8080/",
          "height": 540
        },
        "outputId": "1f90ceb8-d630-4393-97e5-898cf0e8643c"
      },
      "source": [
        "#type of each column\n",
        "print(df.dtypes)"
      ],
      "execution_count": null,
      "outputs": [
        {
          "output_type": "stream",
          "text": [
            "V1        float64\n",
            "V2        float64\n",
            "V3        float64\n",
            "V4        float64\n",
            "V5        float64\n",
            "V6        float64\n",
            "V7        float64\n",
            "V8        float64\n",
            "V9        float64\n",
            "V10       float64\n",
            "V11       float64\n",
            "V12       float64\n",
            "V13       float64\n",
            "V14       float64\n",
            "V15       float64\n",
            "V16       float64\n",
            "V17       float64\n",
            "V18       float64\n",
            "V19       float64\n",
            "V20       float64\n",
            "V21       float64\n",
            "V22       float64\n",
            "V23       float64\n",
            "V24       float64\n",
            "V25       float64\n",
            "V26       float64\n",
            "V27       float64\n",
            "V28       float64\n",
            "Amount    float64\n",
            "Class       int64\n",
            "dtype: object\n"
          ],
          "name": "stdout"
        }
      ]
    },
    {
      "cell_type": "code",
      "metadata": {
        "id": "53rHmSBkOh0h",
        "colab_type": "code",
        "colab": {
          "base_uri": "https://localhost:8080/",
          "height": 641
        },
        "outputId": "11a9bcec-08d1-4969-f45b-864dffc2839c"
      },
      "source": [
        "#data information\n",
        "df.info()"
      ],
      "execution_count": null,
      "outputs": [
        {
          "output_type": "stream",
          "text": [
            "<class 'pandas.core.frame.DataFrame'>\n",
            "RangeIndex: 284807 entries, 0 to 284806\n",
            "Data columns (total 30 columns):\n",
            " #   Column  Non-Null Count   Dtype  \n",
            "---  ------  --------------   -----  \n",
            " 0   V1      284807 non-null  float64\n",
            " 1   V2      284807 non-null  float64\n",
            " 2   V3      284807 non-null  float64\n",
            " 3   V4      284807 non-null  float64\n",
            " 4   V5      284807 non-null  float64\n",
            " 5   V6      284807 non-null  float64\n",
            " 6   V7      284807 non-null  float64\n",
            " 7   V8      284807 non-null  float64\n",
            " 8   V9      284807 non-null  float64\n",
            " 9   V10     284807 non-null  float64\n",
            " 10  V11     284807 non-null  float64\n",
            " 11  V12     284807 non-null  float64\n",
            " 12  V13     284807 non-null  float64\n",
            " 13  V14     284807 non-null  float64\n",
            " 14  V15     284807 non-null  float64\n",
            " 15  V16     284807 non-null  float64\n",
            " 16  V17     284807 non-null  float64\n",
            " 17  V18     284807 non-null  float64\n",
            " 18  V19     284807 non-null  float64\n",
            " 19  V20     284807 non-null  float64\n",
            " 20  V21     284807 non-null  float64\n",
            " 21  V22     284807 non-null  float64\n",
            " 22  V23     284807 non-null  float64\n",
            " 23  V24     284807 non-null  float64\n",
            " 24  V25     284807 non-null  float64\n",
            " 25  V26     284807 non-null  float64\n",
            " 26  V27     284807 non-null  float64\n",
            " 27  V28     284807 non-null  float64\n",
            " 28  Amount  284807 non-null  float64\n",
            " 29  Class   284807 non-null  int64  \n",
            "dtypes: float64(29), int64(1)\n",
            "memory usage: 65.2 MB\n"
          ],
          "name": "stdout"
        }
      ]
    },
    {
      "cell_type": "code",
      "metadata": {
        "id": "CqabR-AJstaK",
        "colab_type": "code",
        "colab": {
          "base_uri": "https://localhost:8080/",
          "height": 202
        },
        "outputId": "ac81321d-fbe2-4f6b-f12f-d7bdaadf7e33"
      },
      "source": [
        " #data description with statistical indicators( mean, minimum, maximum)\n",
        "print(df.describe(include='all'))"
      ],
      "execution_count": null,
      "outputs": [
        {
          "output_type": "stream",
          "text": [
            "                 V1            V2  ...        Amount          Class\n",
            "count  2.848070e+05  2.848070e+05  ...  2.848070e+05  284807.000000\n",
            "mean   3.919560e-15  5.688174e-16  ...  3.202236e-16       0.001727\n",
            "std    1.958696e+00  1.651309e+00  ...  1.000002e+00       0.041527\n",
            "min   -5.640751e+01 -7.271573e+01  ... -3.532294e-01       0.000000\n",
            "25%   -9.203734e-01 -5.985499e-01  ... -3.308401e-01       0.000000\n",
            "50%    1.810880e-02  6.548556e-02  ... -2.652715e-01       0.000000\n",
            "75%    1.315642e+00  8.037239e-01  ... -4.471707e-02       0.000000\n",
            "max    2.454930e+00  2.205773e+01  ...  1.023622e+02       1.000000\n",
            "\n",
            "[8 rows x 30 columns]\n"
          ],
          "name": "stdout"
        }
      ]
    },
    {
      "cell_type": "code",
      "metadata": {
        "id": "5FwcvV2yO7uC",
        "colab_type": "code",
        "colab": {
          "base_uri": "https://localhost:8080/",
          "height": 253
        },
        "outputId": "126ca3db-125e-48e2-b6f6-080a6ea92190"
      },
      "source": [
        "# Verify missing value\n",
        "print(df.notnull())"
      ],
      "execution_count": null,
      "outputs": [
        {
          "output_type": "stream",
          "text": [
            "        Time    V1    V2    V3    V4  ...   V26   V27   V28  Amount  Class\n",
            "0       True  True  True  True  True  ...  True  True  True    True   True\n",
            "1       True  True  True  True  True  ...  True  True  True    True   True\n",
            "2       True  True  True  True  True  ...  True  True  True    True   True\n",
            "3       True  True  True  True  True  ...  True  True  True    True   True\n",
            "4       True  True  True  True  True  ...  True  True  True    True   True\n",
            "...      ...   ...   ...   ...   ...  ...   ...   ...   ...     ...    ...\n",
            "284802  True  True  True  True  True  ...  True  True  True    True   True\n",
            "284803  True  True  True  True  True  ...  True  True  True    True   True\n",
            "284804  True  True  True  True  True  ...  True  True  True    True   True\n",
            "284805  True  True  True  True  True  ...  True  True  True    True   True\n",
            "284806  True  True  True  True  True  ...  True  True  True    True   True\n",
            "\n",
            "[284807 rows x 31 columns]\n"
          ],
          "name": "stdout"
        }
      ]
    },
    {
      "cell_type": "code",
      "metadata": {
        "id": "S0bkRNH6sktF",
        "colab_type": "code",
        "colab": {
          "base_uri": "https://localhost:8080/",
          "height": 67
        },
        "outputId": "b1f49400-f028-47d0-999a-f57c95a3aef9"
      },
      "source": [
        "#Distribution Analysis\n",
        "df['Class'].value_counts()"
      ],
      "execution_count": null,
      "outputs": [
        {
          "output_type": "execute_result",
          "data": {
            "text/plain": [
              "0    284315\n",
              "1       492\n",
              "Name: Class, dtype: int64"
            ]
          },
          "metadata": {
            "tags": []
          },
          "execution_count": 17
        }
      ]
    },
    {
      "cell_type": "markdown",
      "metadata": {
        "id": "Fk5lQZ-5Q4xk",
        "colab_type": "text"
      },
      "source": [
        "### **DATA VISUALISATION** "
      ]
    },
    {
      "cell_type": "code",
      "metadata": {
        "id": "aNVPdkzTQwzq",
        "colab_type": "code",
        "colab": {
          "base_uri": "https://localhost:8080/",
          "height": 295
        },
        "outputId": "e9b6694b-0883-438e-fb86-113ae50bf6fb"
      },
      "source": [
        "#Distribution analysis\n",
        "sns.countplot(df['Class'])\n",
        "plt.title('Class Distribution')\n",
        "plt.xticks(range(2),['Normal','Fraud'])\n",
        "plt.show()"
      ],
      "execution_count": null,
      "outputs": [
        {
          "output_type": "display_data",
          "data": {
            "image/png": "[encoded data removed]",
            "text/plain": [
              "<Figure size 432x288 with 1 Axes>"
            ]
          },
          "metadata": {
            "tags": [],
            "needs_background": "light"
          }
        }
      ]
    },
    {
      "cell_type": "code",
      "metadata": {
        "id": "nL58kHMD7csp",
        "colab_type": "code",
        "colab": {}
      },
      "source": [
        "\"\"\" We notice that our data is very ambulanced, the number of Fraud data is insignicative compared to Normal data in this a \n",
        "big problem because even without trainig our model we will got a hight accuracy. \n",
        "Most machine learning algorithms work best when the number of samples in each class are about equal. \n",
        "This is because most algorithms are designed to maximize accuracy and reduce error.\"\"\""
      ],
      "execution_count": null,
      "outputs": []
    },
    {
      "cell_type": "code",
      "metadata": {
        "id": "hPJAXBaMSQHs",
        "colab_type": "code",
        "colab": {}
      },
      "source": [
        "#Separate normal and fraud data\n",
        "normal = df[df['Class']==0]\n",
        "fraud = df[df['Class']==1]"
      ],
      "execution_count": null,
      "outputs": []
    },
    {
      "cell_type": "code",
      "metadata": {
        "id": "bF_G7Fg1SWjL",
        "colab_type": "code",
        "colab": {
          "base_uri": "https://localhost:8080/",
          "height": 677
        },
        "outputId": "6c4d3055-2f23-453e-84ff-e0f7309dea59"
      },
      "source": [
        "# Visualizing the Amount per transaction by class\n",
        "\n",
        "f, (ax1, ax2) = plt.subplots(2, 1, sharex=True, figsize = (10,10) )\n",
        "f.suptitle('Amount per transaction by class')\n",
        "bins = 10\n",
        "ax1.hist(fraud.Amount, bins = bins)\n",
        "ax1.set_title('Fraud')\n",
        "ax2.hist(normal.Amount, bins = bins)\n",
        "ax2.set_title('Normal')\n",
        "ax1.grid()\n",
        "ax2.grid()\n",
        "plt.xlabel('Amount ($)')\n",
        "plt.ylabel('Number of Transactions')\n",
        "plt.xlim((0, 20000))\n",
        "plt.yscale('log')\n",
        "plt.show();"
      ],
      "execution_count": null,
      "outputs": [
        {
          "output_type": "display_data",
          "data": {
            "image/png": "[encoded data removed]",
            "text/plain": [
              "<Figure size 720x720 with 2 Axes>"
            ]
          },
          "metadata": {
            "tags": [],
            "needs_background": "light"
          }
        }
      ]
    },
    {
      "cell_type": "code",
      "metadata": {
        "id": "rOzC7qGASrIl",
        "colab_type": "code",
        "colab": {
          "base_uri": "https://localhost:8080/",
          "height": 677
        },
        "outputId": "e8039a69-530c-449d-821d-08f33b27660c"
      },
      "source": [
        "# Visualizing Time of transaction vs Amount by class\n",
        "f, (ax1, ax2) = plt.subplots(2, 1, sharex=True, figsize=(10,10))\n",
        "f.suptitle('Time of transaction vs Amount by class')\n",
        "\n",
        "ax1.scatter(fraud.Time, fraud.Amount, marker='.')\n",
        "ax1.set_title('Fraud')\n",
        "ax1.grid()\n",
        "ax2.scatter(normal.Time, normal.Amount, marker='.')\n",
        "ax2.set_title('Normal')\n",
        "ax2.grid()\n",
        "plt.xlabel('Time (in Seconds)')\n",
        "plt.ylabel('Amount')\n",
        "plt.show()"
      ],
      "execution_count": null,
      "outputs": [
        {
          "output_type": "display_data",
          "data": {
            "image/png": "[encoded data removed]",
            "text/plain": [
              "<Figure size 720x720 with 2 Axes>"
            ]
          },
          "metadata": {
            "tags": [],
            "needs_background": "light"
          }
        }
      ]
    },
    {
      "cell_type": "code",
      "metadata": {
        "id": "2EIP-0CaGq1s",
        "colab_type": "code",
        "colab": {}
      },
      "source": [
        "\"\"\" In the figures above we can notice that  the amount of transactions don't change over the time so we will drop the \n",
        "column Time as he will not give us more information \n",
        "\"\"\""
      ],
      "execution_count": null,
      "outputs": []
    },
    {
      "cell_type": "code",
      "metadata": {
        "id": "jVH_fElWTAUq",
        "colab_type": "code",
        "colab": {}
      },
      "source": [
        "# Drop column Time\n",
        "df = df.drop(['Time'], axis =1)"
      ],
      "execution_count": null,
      "outputs": []
    },
    {
      "cell_type": "code",
      "metadata": {
        "id": "XQ0ueg1gTDfK",
        "colab_type": "code",
        "colab": {
          "base_uri": "https://localhost:8080/",
          "height": 152
        },
        "outputId": "86fd3687-1163-40b0-99c6-0270acb84262"
      },
      "source": [
        "# We can see that the column \"Time\" is deleted \n",
        "print(df.head(5))"
      ],
      "execution_count": null,
      "outputs": [
        {
          "output_type": "stream",
          "text": [
            "         V1        V2        V3        V4  ...       V27       V28  Amount  Class\n",
            "0 -1.359807 -0.072781  2.536347  1.378155  ...  0.133558 -0.021053  149.62      0\n",
            "1  1.191857  0.266151  0.166480  0.448154  ... -0.008983  0.014724    2.69      0\n",
            "2 -1.358354 -1.340163  1.773209  0.379780  ... -0.055353 -0.059752  378.66      0\n",
            "3 -0.966272 -0.185226  1.792993 -0.863291  ...  0.062723  0.061458  123.50      0\n",
            "4 -1.158233  0.877737  1.548718  0.403034  ...  0.219422  0.215153   69.99      0\n",
            "\n",
            "[5 rows x 30 columns]\n"
          ],
          "name": "stdout"
        }
      ]
    },
    {
      "cell_type": "code",
      "metadata": {
        "id": "MPaudvVRI6ll",
        "colab_type": "code",
        "colab": {}
      },
      "source": [
        "\"\"\" By observing our dataset we notice that all the values of each column has been normalized ie all the value are in the same scale\n",
        "except for the column Amount so we will normalize this colomn too \"\"\""
      ],
      "execution_count": null,
      "outputs": []
    },
    {
      "cell_type": "code",
      "metadata": {
        "id": "o8Gs3mgNd0yv",
        "colab_type": "code",
        "colab": {
          "base_uri": "https://localhost:8080/",
          "height": 152
        },
        "outputId": "0cb75dc8-6841-4c84-a7f7-0141c8fb5321"
      },
      "source": [
        "# Normalization of column Amount \n",
        "df['Amount'] = StandardScaler().fit_transform(df['Amount'].values.reshape(-1, 1))\n",
        "print(df.head(5))"
      ],
      "execution_count": null,
      "outputs": [
        {
          "output_type": "stream",
          "text": [
            "         V1        V2        V3        V4  ...       V27       V28    Amount  Class\n",
            "0 -1.359807 -0.072781  2.536347  1.378155  ...  0.133558 -0.021053  0.244964      0\n",
            "1  1.191857  0.266151  0.166480  0.448154  ... -0.008983  0.014724 -0.342475      0\n",
            "2 -1.358354 -1.340163  1.773209  0.379780  ... -0.055353 -0.059752  1.160686      0\n",
            "3 -0.966272 -0.185226  1.792993 -0.863291  ...  0.062723  0.061458  0.140534      0\n",
            "4 -1.158233  0.877737  1.548718  0.403034  ...  0.219422  0.215153 -0.073403      0\n",
            "\n",
            "[5 rows x 30 columns]\n"
          ],
          "name": "stdout"
        }
      ]
    },
    {
      "cell_type": "markdown",
      "metadata": {
        "id": "cbHdjtiRxtCo",
        "colab_type": "text"
      },
      "source": [
        "### ***MODELING***"
      ]
    },
    {
      "cell_type": "code",
      "metadata": {
        "id": "XcvNq3JNs3p3",
        "colab_type": "code",
        "colab": {}
      },
      "source": [
        "# Separate input features and target\n",
        "y = df.Class\n",
        "X = df.drop('Class', axis=1)\n",
        "# setting up testing and training sets\n",
        "X_train, X_test, y_train, y_test = train_test_split(X, y, \n",
        "                                      test_size=0.20, random_state=27)"
      ],
      "execution_count": null,
      "outputs": []
    },
    {
      "cell_type": "code",
      "metadata": {
        "id": "bCTZMQ8g82m_",
        "colab_type": "code",
        "colab": {}
      },
      "source": [
        "\"\"\" As we said previouly our data is very imbalanced  and most machine learning\n",
        " algorithms do not work very well with imbalanced datasets. So for that we are going to use \n",
        " two techniques (Oversampling, and Undersamplling) that will help us, to train a classifier to detect the abnormal class\"\"\""
      ],
      "execution_count": null,
      "outputs": []
    },
    {
      "cell_type": "markdown",
      "metadata": {
        "id": "iQvBgtYtTk31",
        "colab_type": "text"
      },
      "source": [
        "# ***OVERERSAMPLING***"
      ]
    },
    {
      "cell_type": "code",
      "metadata": {
        "id": "4uQOCD_w96xp",
        "colab_type": "code",
        "colab": {}
      },
      "source": [
        "\"\"\" oversampling is used when the quantity of data is insufficient. It tries to \n",
        "balance dataset by increasing the size of rare samples \"\"\""
      ],
      "execution_count": null,
      "outputs": []
    },
    {
      "cell_type": "code",
      "metadata": {
        "id": "Sa2XSmL3TJ4P",
        "colab_type": "code",
        "colab": {}
      },
      "source": [
        "# concatenate our training data back together\n",
        "X = pd.concat([X_train, y_train], axis=1)\n",
        "# separate minority and majority classes\n",
        "normal = X[X.Class==0]\n",
        "fraud = X[X.Class==1]\n",
        "\n",
        "# upsample minority\n",
        "fraud_upsampled = resample(fraud,\n",
        "                          replace=True, # sample with replacement\n",
        "                          n_samples=len(normal), # match number in majority class\n",
        "                          random_state=27) # reproducible results\n",
        "# combine majority and upsampled minority\n",
        "data = pd.concat([normal, fraud_upsampled])"
      ],
      "execution_count": null,
      "outputs": []
    },
    {
      "cell_type": "code",
      "metadata": {
        "id": "IhYslsZY0woE",
        "colab_type": "code",
        "colab": {
          "base_uri": "https://localhost:8080/",
          "height": 67
        },
        "outputId": "8420987b-4eb6-4b23-98d9-8581910abcaa"
      },
      "source": [
        "# check new class counts\n",
        "data.Class.value_counts()"
      ],
      "execution_count": null,
      "outputs": [
        {
          "output_type": "execute_result",
          "data": {
            "text/plain": [
              "1    213245\n",
              "0    213245\n",
              "Name: Class, dtype: int64"
            ]
          },
          "metadata": {
            "tags": []
          },
          "execution_count": 32
        }
      ]
    },
    {
      "cell_type": "code",
      "metadata": {
        "id": "NZD1RNi6x79Y",
        "colab_type": "code",
        "colab": {}
      },
      "source": [
        "# Reseparate input features and target\n",
        "y_train = data.Class\n",
        "X_train = data.drop('Class', axis=1)"
      ],
      "execution_count": null,
      "outputs": []
    },
    {
      "cell_type": "code",
      "metadata": {
        "id": "HJiXbfjZtxAK",
        "colab_type": "code",
        "colab": {
          "base_uri": "https://localhost:8080/",
          "height": 101
        },
        "outputId": "d91cfef4-fc3b-45ef-a87e-517a4d1446e7"
      },
      "source": [
        "#Using LogisticRegression\n",
        "classifier  = LogisticRegression(solver='liblinear', random_state = 27)\n",
        "classifier.fit(X_train, y_train)"
      ],
      "execution_count": null,
      "outputs": [
        {
          "output_type": "execute_result",
          "data": {
            "text/plain": [
              "LogisticRegression(C=1.0, class_weight=None, dual=False, fit_intercept=True,\n",
              "                   intercept_scaling=1, l1_ratio=None, max_iter=100,\n",
              "                   multi_class='auto', n_jobs=None, penalty='l2',\n",
              "                   random_state=27, solver='liblinear', tol=0.0001, verbose=0,\n",
              "                   warm_start=False)"
            ]
          },
          "metadata": {
            "tags": []
          },
          "execution_count": 38
        }
      ]
    },
    {
      "cell_type": "code",
      "metadata": {
        "id": "yxTrFvsst1Jb",
        "colab_type": "code",
        "colab": {
          "base_uri": "https://localhost:8080/",
          "height": 34
        },
        "outputId": "46d882b2-4736-425b-c28c-a3057a1a77d7"
      },
      "source": [
        "#Prediction\n",
        "y_pred = classifier.predict(X_test)\n",
        "print(y_pred)"
      ],
      "execution_count": null,
      "outputs": [
        {
          "output_type": "stream",
          "text": [
            "[0 0 1 ... 0 0 0]\n"
          ],
          "name": "stdout"
        }
      ]
    },
    {
      "cell_type": "code",
      "metadata": {
        "id": "cIVx5uQpuIxD",
        "colab_type": "code",
        "colab": {
          "base_uri": "https://localhost:8080/",
          "height": 34
        },
        "outputId": "674c1729-5fb0-4f63-dc67-36e7f8d86801"
      },
      "source": [
        "# Print accuracy\n",
        "print(accuracy_score(y_test, y_pred))"
      ],
      "execution_count": null,
      "outputs": [
        {
          "output_type": "stream",
          "text": [
            "0.9778657902867897\n"
          ],
          "name": "stdout"
        }
      ]
    },
    {
      "cell_type": "code",
      "metadata": {
        "id": "rJnyX9ytuCZ-",
        "colab_type": "code",
        "colab": {
          "base_uri": "https://localhost:8080/",
          "height": 50
        },
        "outputId": "47ab2759-a5d5-4b22-93fa-89e6a4d9e95c"
      },
      "source": [
        "# Confusion matrix\n",
        "cm= confusion_matrix(y_test, y_pred)\n",
        "print(cm)"
      ],
      "execution_count": null,
      "outputs": [
        {
          "output_type": "stream",
          "text": [
            "[[69510  1560]\n",
            " [   16   116]]\n"
          ],
          "name": "stdout"
        }
      ]
    },
    {
      "cell_type": "code",
      "metadata": {
        "id": "pWdAsr8buMTA",
        "colab_type": "code",
        "colab": {
          "base_uri": "https://localhost:8080/",
          "height": 169
        },
        "outputId": "e9651bcb-b888-42ae-a405-787c48c8f3e6"
      },
      "source": [
        "# Classification report\n",
        "print(classification_report(y_test, y_pred)) "
      ],
      "execution_count": null,
      "outputs": [
        {
          "output_type": "stream",
          "text": [
            "              precision    recall  f1-score   support\n",
            "\n",
            "           0       1.00      0.98      0.99     71070\n",
            "           1       0.07      0.88      0.13       132\n",
            "\n",
            "    accuracy                           0.98     71202\n",
            "   macro avg       0.53      0.93      0.56     71202\n",
            "weighted avg       1.00      0.98      0.99     71202\n",
            "\n"
          ],
          "name": "stdout"
        }
      ]
    },
    {
      "cell_type": "markdown",
      "metadata": {
        "id": "E82hEY7A2kIR",
        "colab_type": "text"
      },
      "source": [
        "### ***UNDERSAMPLING***"
      ]
    },
    {
      "cell_type": "code",
      "metadata": {
        "id": "qBAEiLjg-eBB",
        "colab_type": "code",
        "colab": {}
      },
      "source": [
        "\"\"\" Under-sampling balances the dataset by reducing the size of the abundant class. \n",
        "This method is used when quantity of data is sufficient. By keeping all samples in the \n",
        "rare class and randomly selecting an equal number of samples in the abundant class, \n",
        "a balanced new dataset can be retrieved for further modelling \"\"\""
      ],
      "execution_count": null,
      "outputs": []
    },
    {
      "cell_type": "code",
      "metadata": {
        "id": "WT5MPjFwuQTN",
        "colab_type": "code",
        "colab": {}
      },
      "source": [
        "# still using our separated classes fraud and not_fraud from above\n",
        "\n",
        "# downsample majority\n",
        "normal_downsampled = resample(normal,\n",
        "                                replace = False, # sample without replacement\n",
        "                                n_samples = len(fraud), # match minority n\n",
        "                                random_state = 27) # reproducible results\n",
        "\n",
        "# combine minority and downsampled majority\n",
        "data = pd.concat([normal_downsampled, fraud])"
      ],
      "execution_count": null,
      "outputs": []
    },
    {
      "cell_type": "code",
      "metadata": {
        "id": "lzT_8OTi3mRc",
        "colab_type": "code",
        "colab": {
          "base_uri": "https://localhost:8080/",
          "height": 67
        },
        "outputId": "652ec53e-e3ab-44df-9240-91522871e0db"
      },
      "source": [
        "# checking counts\n",
        "data.Class.value_counts()"
      ],
      "execution_count": null,
      "outputs": [
        {
          "output_type": "execute_result",
          "data": {
            "text/plain": [
              "1    360\n",
              "0    360\n",
              "Name: Class, dtype: int64"
            ]
          },
          "metadata": {
            "tags": []
          },
          "execution_count": 53
        }
      ]
    },
    {
      "cell_type": "code",
      "metadata": {
        "id": "tjJrt8Hn3wym",
        "colab_type": "code",
        "colab": {}
      },
      "source": [
        "\"\"\"Again, we have an equal ratio of fraud to not fraud data points, but in this case \n",
        "a much smaller quantity of data to train the model on. \n",
        "Let’s again apply our logistic regression \"\"\""
      ],
      "execution_count": null,
      "outputs": []
    },
    {
      "cell_type": "code",
      "metadata": {
        "id": "jPQWonUe3w5n",
        "colab_type": "code",
        "colab": {}
      },
      "source": [
        "# Let's apply again logistic regression with the undersampled dataset\n",
        "# Reseparate input features and target\n",
        "y_train = data.Class\n",
        "X_train = data.drop('Class', axis=1)"
      ],
      "execution_count": null,
      "outputs": []
    },
    {
      "cell_type": "code",
      "metadata": {
        "id": "2Fyze80y3wf4",
        "colab_type": "code",
        "colab": {
          "base_uri": "https://localhost:8080/",
          "height": 101
        },
        "outputId": "99d6175f-efd5-45d6-a800-0b70278e10d5"
      },
      "source": [
        "classifier  = LogisticRegression(solver='liblinear', random_state = 0)\n",
        "classifier.fit(X_train, y_train)"
      ],
      "execution_count": null,
      "outputs": [
        {
          "output_type": "execute_result",
          "data": {
            "text/plain": [
              "LogisticRegression(C=1.0, class_weight=None, dual=False, fit_intercept=True,\n",
              "                   intercept_scaling=1, l1_ratio=None, max_iter=100,\n",
              "                   multi_class='auto', n_jobs=None, penalty='l2',\n",
              "                   random_state=0, solver='liblinear', tol=0.0001, verbose=0,\n",
              "                   warm_start=False)"
            ]
          },
          "metadata": {
            "tags": []
          },
          "execution_count": 64
        }
      ]
    },
    {
      "cell_type": "code",
      "metadata": {
        "id": "v-ubdX_N4kvo",
        "colab_type": "code",
        "colab": {
          "base_uri": "https://localhost:8080/",
          "height": 34
        },
        "outputId": "16e01c82-1700-49c2-bdb9-499db6ddaabd"
      },
      "source": [
        "#Prediction\n",
        "y_pred = classifier.predict(X_test)\n",
        "print(y_pred)"
      ],
      "execution_count": null,
      "outputs": [
        {
          "output_type": "stream",
          "text": [
            "[0 0 1 ... 0 0 0]\n"
          ],
          "name": "stdout"
        }
      ]
    },
    {
      "cell_type": "code",
      "metadata": {
        "id": "BQE2n0TM4lHS",
        "colab_type": "code",
        "colab": {
          "base_uri": "https://localhost:8080/",
          "height": 34
        },
        "outputId": "ce355d3b-841b-42a4-cff5-c49841a97850"
      },
      "source": [
        "# Print accuracy\n",
        "print(accuracy_score(y_test, y_pred))"
      ],
      "execution_count": null,
      "outputs": [
        {
          "output_type": "stream",
          "text": [
            "0.9637650627791354\n"
          ],
          "name": "stdout"
        }
      ]
    },
    {
      "cell_type": "code",
      "metadata": {
        "id": "lsCLkSoY4lAg",
        "colab_type": "code",
        "colab": {
          "base_uri": "https://localhost:8080/",
          "height": 50
        },
        "outputId": "2840b76f-3b7b-40d3-c675-6f7e709a5d61"
      },
      "source": [
        "# Confusion matrix\n",
        "cm= confusion_matrix(y_test, y_pred)\n",
        "print(cm)"
      ],
      "execution_count": null,
      "outputs": [
        {
          "output_type": "stream",
          "text": [
            "[[68505  2565]\n",
            " [   15   117]]\n"
          ],
          "name": "stdout"
        }
      ]
    },
    {
      "cell_type": "code",
      "metadata": {
        "id": "ONoyLeBj4kbj",
        "colab_type": "code",
        "colab": {
          "base_uri": "https://localhost:8080/",
          "height": 169
        },
        "outputId": "d9de5c6f-6859-4d5a-a9a3-cf1b63ed8f74"
      },
      "source": [
        "# Classification report\n",
        "print(classification_report(y_test, y_pred)) "
      ],
      "execution_count": null,
      "outputs": [
        {
          "output_type": "stream",
          "text": [
            "              precision    recall  f1-score   support\n",
            "\n",
            "           0       1.00      0.96      0.98     71070\n",
            "           1       0.04      0.89      0.08       132\n",
            "\n",
            "    accuracy                           0.96     71202\n",
            "   macro avg       0.52      0.93      0.53     71202\n",
            "weighted avg       1.00      0.96      0.98     71202\n",
            "\n"
          ],
          "name": "stdout"
        }
      ]
    },
    {
      "cell_type": "code",
      "metadata": {
        "id": "1fPQhNqA5hhe",
        "colab_type": "code",
        "colab": {}
      },
      "source": [
        "\"\"\" Comparing the different metric of both Undersampling and Oversamplig we can conclude that Oversamplig \n",
        "performed better than  oversampling .\n",
        "\n",
        "\n",
        "Note that there is no absolute advantage of one resampling method over another. Application of these two \n",
        "methods depends on the use case it applies to and the dataset itself. Another technique which is by combining the over- and under-sampling \n",
        "can also be used.\n",
        "\n",
        "\n",
        "\"\"\"\n",
        "\n"
      ],
      "execution_count": null,
      "outputs": []
    }
  ]
}